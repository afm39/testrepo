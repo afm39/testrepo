{
  "metadata": {
    "kernelspec": {
      "name": "javascript",
      "display_name": "JavaScript",
      "language": "javascript"
    },
    "language_info": {
      "codemirror_mode": {
        "name": "javascript"
      },
      "file_extension": ".js",
      "mimetype": "text/javascript",
      "name": "javascript",
      "nbconvert_exporter": "javascript",
      "pygments_lexer": "javascript",
      "version": "es2017"
    }
  },
  "nbformat_minor": 4,
  "nbformat": 4,
  "cells": [
    {
      "cell_type": "markdown",
      "source": "<center>\n    <img src=\"https://s3-api.us-geo.objectstorage.softlayer.net/cf-courses-data/CognitiveClass/Logos/organization_logo/organization_logo.png\" width=\"300\" alt=\"cognitiveclass.ai logo\"  />\n</center>\n",
      "metadata": {}
    },
    {
      "cell_type": "markdown",
      "source": "#### Add your code below following the instructions given in the course\n",
      "metadata": {}
    },
    {
      "cell_type": "markdown",
      "source": "# Mi título",
      "metadata": {}
    },
    {
      "cell_type": "markdown",
      "source": "## L1",
      "metadata": {}
    },
    {
      "cell_type": "code",
      "source": "1+1",
      "metadata": {
        "trusted": true
      },
      "execution_count": 1,
      "outputs": [
        {
          "execution_count": 1,
          "output_type": "execute_result",
          "data": {
            "text/plain": 2
          },
          "metadata": {}
        }
      ]
    },
    {
      "cell_type": "code",
      "source": "4/2",
      "metadata": {
        "trusted": true
      },
      "execution_count": 2,
      "outputs": [
        {
          "execution_count": 2,
          "output_type": "execute_result",
          "data": {
            "text/plain": 2
          },
          "metadata": {}
        }
      ]
    },
    {
      "cell_type": "markdown",
      "source": "<a href=\"https://dataplatform.cloud.ibm.com/gallery\">IBM Cloud Gallery</a> ",
      "metadata": {}
    },
    {
      "cell_type": "markdown",
      "source": "https://github.com/adam-p/markdown-here/wiki/Markdown-Cheatsheet\n",
      "metadata": {}
    },
    {
      "cell_type": "markdown",
      "source": "| header | header |\n| ------ | ------ |\n| cell | cell |",
      "metadata": {}
    },
    {
      "cell_type": "markdown",
      "source": "| T1 | T2 | T3 |\n|- |- | -|\n| 1.1 | 2.1 | 3.1 |\n| 1.2 | 2.2 | 3.2 |\n| 1.3 | 2.3 | 3.3 |\n| 1.4 | 2.4 | 3.4 |",
      "metadata": {}
    },
    {
      "cell_type": "markdown",
      "source": "https://nbviewer.jupyter.org/github/Tanu-N-Prabhu/Python/blob/master/Exploratory_data_Analysis.ipynb",
      "metadata": {}
    },
    {
      "cell_type": "markdown",
      "source": "#### 1. Librerias for EDA\n",
      "metadata": {}
    },
    {
      "cell_type": "code",
      "source": "// package.json\n{\n  \"type\": \"module\"\n}",
      "metadata": {
        "trusted": true
      },
      "execution_count": 3,
      "outputs": [
        {
          "ename": "SyntaxError",
          "evalue": "Unexpected token ':'",
          "traceback": [
            "SyntaxError: Unexpected token ':'\n    at eval (<anonymous>)\n    at s.eval [as _evalFunc] (eval at s (https://cf-courses-data.s3.us.cloud-object-storage.appdomain.cloud/IBMDeveloperSkillsNetwork-DS0105EN-SkillsNetwork/jupyterlite/build/1013.80715e2.js:1:270), <anonymous>:3:15)\n    at s._eval (https://cf-courses-data.s3.us.cloud-object-storage.appdomain.cloud/IBMDeveloperSkillsNetwork-DS0105EN-SkillsNetwork/jupyterlite/build/1013.80715e2.js:1:2501)\n    at s.executeRequest (https://cf-courses-data.s3.us.cloud-object-storage.appdomain.cloud/IBMDeveloperSkillsNetwork-DS0105EN-SkillsNetwork/jupyterlite/build/1013.80715e2.js:1:1372)\n    at s._execute (https://cf-courses-data.s3.us.cloud-object-storage.appdomain.cloud/IBMDeveloperSkillsNetwork-DS0105EN-SkillsNetwork/jupyterlite/build/6433.a5fc382.js:1:6015)\n    at s.handleMessage (https://cf-courses-data.s3.us.cloud-object-storage.appdomain.cloud/IBMDeveloperSkillsNetwork-DS0105EN-SkillsNetwork/jupyterlite/build/6433.a5fc382.js:1:2290)\n    at https://cf-courses-data.s3.us.cloud-object-storage.appdomain.cloud/IBMDeveloperSkillsNetwork-DS0105EN-SkillsNetwork/jupyterlite/build/6433.a5fc382.js:1:10032\n    at https://cf-courses-data.s3.us.cloud-object-storage.appdomain.cloud/IBMDeveloperSkillsNetwork-DS0105EN-SkillsNetwork/jupyterlite/build/6433.a5fc382.js:1:9106\n    at d.<anonymous> (https://cf-courses-data.s3.us.cloud-object-storage.appdomain.cloud/IBMDeveloperSkillsNetwork-DS0105EN-SkillsNetwork/jupyterlite/build/6433.a5fc382.js:1:7792)\n    at Generator.next (<anonymous>)"
          ],
          "output_type": "error"
        }
      ]
    },
    {
      "cell_type": "code",
      "source": "import pandas as pd\nimport numpy as np\nimport seaborn as sns                       #visualisation\nimport matplotlib.pyplot as plt             #visualisation\n%matplotlib inline     \nsns.set(color_codes=True)",
      "metadata": {
        "trusted": true
      },
      "execution_count": 4,
      "outputs": [
        {
          "ename": "SyntaxError",
          "evalue": "Cannot use import statement outside a module",
          "traceback": [
            "SyntaxError: Cannot use import statement outside a module\n    at eval (<anonymous>)\n    at s.eval [as _evalFunc] (eval at s (https://cf-courses-data.s3.us.cloud-object-storage.appdomain.cloud/IBMDeveloperSkillsNetwork-DS0105EN-SkillsNetwork/jupyterlite/build/1013.80715e2.js:1:270), <anonymous>:3:15)\n    at s._eval (https://cf-courses-data.s3.us.cloud-object-storage.appdomain.cloud/IBMDeveloperSkillsNetwork-DS0105EN-SkillsNetwork/jupyterlite/build/1013.80715e2.js:1:2501)\n    at s.executeRequest (https://cf-courses-data.s3.us.cloud-object-storage.appdomain.cloud/IBMDeveloperSkillsNetwork-DS0105EN-SkillsNetwork/jupyterlite/build/1013.80715e2.js:1:1372)\n    at s._execute (https://cf-courses-data.s3.us.cloud-object-storage.appdomain.cloud/IBMDeveloperSkillsNetwork-DS0105EN-SkillsNetwork/jupyterlite/build/6433.a5fc382.js:1:6015)\n    at s.handleMessage (https://cf-courses-data.s3.us.cloud-object-storage.appdomain.cloud/IBMDeveloperSkillsNetwork-DS0105EN-SkillsNetwork/jupyterlite/build/6433.a5fc382.js:1:2290)\n    at https://cf-courses-data.s3.us.cloud-object-storage.appdomain.cloud/IBMDeveloperSkillsNetwork-DS0105EN-SkillsNetwork/jupyterlite/build/6433.a5fc382.js:1:10032\n    at https://cf-courses-data.s3.us.cloud-object-storage.appdomain.cloud/IBMDeveloperSkillsNetwork-DS0105EN-SkillsNetwork/jupyterlite/build/6433.a5fc382.js:1:9106\n    at d.<anonymous> (https://cf-courses-data.s3.us.cloud-object-storage.appdomain.cloud/IBMDeveloperSkillsNetwork-DS0105EN-SkillsNetwork/jupyterlite/build/6433.a5fc382.js:1:7792)\n    at Generator.next (<anonymous>)"
          ],
          "output_type": "error"
        }
      ]
    },
    {
      "cell_type": "markdown",
      "source": "#### 2. Loading the data into the data frame.",
      "metadata": {}
    },
    {
      "cell_type": "code",
      "source": "df = pd.read_csv(\"data.csv\")\n# To display the top 5 rows \ndf.head(5)   ",
      "metadata": {
        "trusted": true
      },
      "execution_count": 5,
      "outputs": [
        {
          "ename": "SyntaxError",
          "evalue": "Invalid or unexpected token",
          "traceback": [
            "SyntaxError: Invalid or unexpected token\n    at eval (<anonymous>)\n    at s.eval [as _evalFunc] (eval at s (https://cf-courses-data.s3.us.cloud-object-storage.appdomain.cloud/IBMDeveloperSkillsNetwork-DS0105EN-SkillsNetwork/jupyterlite/build/1013.80715e2.js:1:270), <anonymous>:3:15)\n    at s._eval (https://cf-courses-data.s3.us.cloud-object-storage.appdomain.cloud/IBMDeveloperSkillsNetwork-DS0105EN-SkillsNetwork/jupyterlite/build/1013.80715e2.js:1:2501)\n    at s.executeRequest (https://cf-courses-data.s3.us.cloud-object-storage.appdomain.cloud/IBMDeveloperSkillsNetwork-DS0105EN-SkillsNetwork/jupyterlite/build/1013.80715e2.js:1:1372)\n    at s._execute (https://cf-courses-data.s3.us.cloud-object-storage.appdomain.cloud/IBMDeveloperSkillsNetwork-DS0105EN-SkillsNetwork/jupyterlite/build/6433.a5fc382.js:1:6015)\n    at s.handleMessage (https://cf-courses-data.s3.us.cloud-object-storage.appdomain.cloud/IBMDeveloperSkillsNetwork-DS0105EN-SkillsNetwork/jupyterlite/build/6433.a5fc382.js:1:2290)\n    at https://cf-courses-data.s3.us.cloud-object-storage.appdomain.cloud/IBMDeveloperSkillsNetwork-DS0105EN-SkillsNetwork/jupyterlite/build/6433.a5fc382.js:1:10032\n    at https://cf-courses-data.s3.us.cloud-object-storage.appdomain.cloud/IBMDeveloperSkillsNetwork-DS0105EN-SkillsNetwork/jupyterlite/build/6433.a5fc382.js:1:9106\n    at d.<anonymous> (https://cf-courses-data.s3.us.cloud-object-storage.appdomain.cloud/IBMDeveloperSkillsNetwork-DS0105EN-SkillsNetwork/jupyterlite/build/6433.a5fc382.js:1:7792)\n    at Generator.next (<anonymous>)"
          ],
          "output_type": "error"
        }
      ]
    },
    {
      "cell_type": "code",
      "source": "df.tail(5)                        # To display the botton 5 rows",
      "metadata": {
        "trusted": true
      },
      "execution_count": 6,
      "outputs": [
        {
          "ename": "SyntaxError",
          "evalue": "Invalid or unexpected token",
          "traceback": [
            "SyntaxError: Invalid or unexpected token\n    at eval (<anonymous>)\n    at s.eval [as _evalFunc] (eval at s (https://cf-courses-data.s3.us.cloud-object-storage.appdomain.cloud/IBMDeveloperSkillsNetwork-DS0105EN-SkillsNetwork/jupyterlite/build/1013.80715e2.js:1:270), <anonymous>:3:15)\n    at s._eval (https://cf-courses-data.s3.us.cloud-object-storage.appdomain.cloud/IBMDeveloperSkillsNetwork-DS0105EN-SkillsNetwork/jupyterlite/build/1013.80715e2.js:1:2501)\n    at s.executeRequest (https://cf-courses-data.s3.us.cloud-object-storage.appdomain.cloud/IBMDeveloperSkillsNetwork-DS0105EN-SkillsNetwork/jupyterlite/build/1013.80715e2.js:1:1372)\n    at s._execute (https://cf-courses-data.s3.us.cloud-object-storage.appdomain.cloud/IBMDeveloperSkillsNetwork-DS0105EN-SkillsNetwork/jupyterlite/build/6433.a5fc382.js:1:6015)\n    at s.handleMessage (https://cf-courses-data.s3.us.cloud-object-storage.appdomain.cloud/IBMDeveloperSkillsNetwork-DS0105EN-SkillsNetwork/jupyterlite/build/6433.a5fc382.js:1:2290)\n    at https://cf-courses-data.s3.us.cloud-object-storage.appdomain.cloud/IBMDeveloperSkillsNetwork-DS0105EN-SkillsNetwork/jupyterlite/build/6433.a5fc382.js:1:10032\n    at https://cf-courses-data.s3.us.cloud-object-storage.appdomain.cloud/IBMDeveloperSkillsNetwork-DS0105EN-SkillsNetwork/jupyterlite/build/6433.a5fc382.js:1:9106\n    at d.<anonymous> (https://cf-courses-data.s3.us.cloud-object-storage.appdomain.cloud/IBMDeveloperSkillsNetwork-DS0105EN-SkillsNetwork/jupyterlite/build/6433.a5fc382.js:1:7792)\n    at Generator.next (<anonymous>)"
          ],
          "output_type": "error"
        }
      ]
    },
    {
      "cell_type": "markdown",
      "source": "#### 3. Checking the types of data\nHere we check for the datatypes because sometimes the MSRP or the price of the car would be stored as a string, if in that case, we have to convert that string to the integer data only then we can plot the data via a graph. Here, in this case, the data is already in integer format so nothing to worry.\n",
      "metadata": {}
    },
    {
      "cell_type": "code",
      "source": "\ndf.dtypes",
      "metadata": {
        "trusted": true
      },
      "execution_count": 7,
      "outputs": [
        {
          "ename": "ReferenceError",
          "evalue": "df is not defined",
          "traceback": [
            "ReferenceError: df is not defined\n    at eval (eval at <anonymous> (eval at s (https://cf-courses-data.s3.us.cloud-object-storage.appdomain.cloud/IBMDeveloperSkillsNetwork-DS0105EN-SkillsNetwork/jupyterlite/build/1013.80715e2.js:1:270)), <anonymous>:2:1)\n    at eval (<anonymous>)\n    at s.eval [as _evalFunc] (eval at s (https://cf-courses-data.s3.us.cloud-object-storage.appdomain.cloud/IBMDeveloperSkillsNetwork-DS0105EN-SkillsNetwork/jupyterlite/build/1013.80715e2.js:1:270), <anonymous>:3:15)\n    at s._eval (https://cf-courses-data.s3.us.cloud-object-storage.appdomain.cloud/IBMDeveloperSkillsNetwork-DS0105EN-SkillsNetwork/jupyterlite/build/1013.80715e2.js:1:2501)\n    at s.executeRequest (https://cf-courses-data.s3.us.cloud-object-storage.appdomain.cloud/IBMDeveloperSkillsNetwork-DS0105EN-SkillsNetwork/jupyterlite/build/1013.80715e2.js:1:1372)\n    at s._execute (https://cf-courses-data.s3.us.cloud-object-storage.appdomain.cloud/IBMDeveloperSkillsNetwork-DS0105EN-SkillsNetwork/jupyterlite/build/6433.a5fc382.js:1:6015)\n    at s.handleMessage (https://cf-courses-data.s3.us.cloud-object-storage.appdomain.cloud/IBMDeveloperSkillsNetwork-DS0105EN-SkillsNetwork/jupyterlite/build/6433.a5fc382.js:1:2290)\n    at https://cf-courses-data.s3.us.cloud-object-storage.appdomain.cloud/IBMDeveloperSkillsNetwork-DS0105EN-SkillsNetwork/jupyterlite/build/6433.a5fc382.js:1:10032\n    at https://cf-courses-data.s3.us.cloud-object-storage.appdomain.cloud/IBMDeveloperSkillsNetwork-DS0105EN-SkillsNetwork/jupyterlite/build/6433.a5fc382.js:1:9106\n    at d.<anonymous> (https://cf-courses-data.s3.us.cloud-object-storage.appdomain.cloud/IBMDeveloperSkillsNetwork-DS0105EN-SkillsNetwork/jupyterlite/build/6433.a5fc382.js:1:7792)"
          ],
          "output_type": "error"
        }
      ]
    },
    {
      "cell_type": "markdown",
      "source": "#### 4. Dropping irrelevant columns\nThis step is certainly needed in every EDA because sometimes there would be many columns that we never use in such cases dropping is the only solution. In this case, the columns such as Engine Fuel Type, Market Category, Vehicle style, Popularity, Number of doors, Vehicle Size doesn't make any sense to me so I just dropped for this instance.\n",
      "metadata": {}
    },
    {
      "cell_type": "code",
      "source": "df = df.drop(['Engine Fuel Type', 'Market Category', 'Vehicle Style', 'Popularity', 'Number of Doors', 'Vehicle Size'], axis=1)\ndf.head(5)",
      "metadata": {
        "trusted": true
      },
      "execution_count": 8,
      "outputs": [
        {
          "ename": "ReferenceError",
          "evalue": "df is not defined",
          "traceback": [
            "ReferenceError: df is not defined\n    at eval (eval at <anonymous> (eval at s (https://cf-courses-data.s3.us.cloud-object-storage.appdomain.cloud/IBMDeveloperSkillsNetwork-DS0105EN-SkillsNetwork/jupyterlite/build/1013.80715e2.js:1:270)), <anonymous>:1:1)\n    at eval (<anonymous>)\n    at s.eval [as _evalFunc] (eval at s (https://cf-courses-data.s3.us.cloud-object-storage.appdomain.cloud/IBMDeveloperSkillsNetwork-DS0105EN-SkillsNetwork/jupyterlite/build/1013.80715e2.js:1:270), <anonymous>:3:15)\n    at s._eval (https://cf-courses-data.s3.us.cloud-object-storage.appdomain.cloud/IBMDeveloperSkillsNetwork-DS0105EN-SkillsNetwork/jupyterlite/build/1013.80715e2.js:1:2501)\n    at s.executeRequest (https://cf-courses-data.s3.us.cloud-object-storage.appdomain.cloud/IBMDeveloperSkillsNetwork-DS0105EN-SkillsNetwork/jupyterlite/build/1013.80715e2.js:1:1372)\n    at s._execute (https://cf-courses-data.s3.us.cloud-object-storage.appdomain.cloud/IBMDeveloperSkillsNetwork-DS0105EN-SkillsNetwork/jupyterlite/build/6433.a5fc382.js:1:6015)\n    at s.handleMessage (https://cf-courses-data.s3.us.cloud-object-storage.appdomain.cloud/IBMDeveloperSkillsNetwork-DS0105EN-SkillsNetwork/jupyterlite/build/6433.a5fc382.js:1:2290)\n    at https://cf-courses-data.s3.us.cloud-object-storage.appdomain.cloud/IBMDeveloperSkillsNetwork-DS0105EN-SkillsNetwork/jupyterlite/build/6433.a5fc382.js:1:10032\n    at https://cf-courses-data.s3.us.cloud-object-storage.appdomain.cloud/IBMDeveloperSkillsNetwork-DS0105EN-SkillsNetwork/jupyterlite/build/6433.a5fc382.js:1:9106\n    at d.<anonymous> (https://cf-courses-data.s3.us.cloud-object-storage.appdomain.cloud/IBMDeveloperSkillsNetwork-DS0105EN-SkillsNetwork/jupyterlite/build/6433.a5fc382.js:1:7792)"
          ],
          "output_type": "error"
        }
      ]
    },
    {
      "cell_type": "markdown",
      "source": "#### 5. Renaming the columns\nIn this instance, most of the column names are very confusing to read, so I just tweaked their column names. This is a good approach it improves the readability of the data set.\n",
      "metadata": {}
    },
    {
      "cell_type": "code",
      "source": "\ndf = df.rename(columns={\"Engine HP\": \"HP\", \"Engine Cylinders\": \"Cylinders\", \"Transmission Type\": \"Transmission\", \"Driven_Wheels\": \"Drive Mode\",\"highway MPG\": \"MPG-H\", \"city mpg\": \"MPG-C\", \"MSRP\": \"Price\" })\ndf.head(5)",
      "metadata": {
        "trusted": true
      },
      "execution_count": 9,
      "outputs": [
        {
          "ename": "ReferenceError",
          "evalue": "df is not defined",
          "traceback": [
            "ReferenceError: df is not defined\n    at eval (eval at <anonymous> (eval at s (https://cf-courses-data.s3.us.cloud-object-storage.appdomain.cloud/IBMDeveloperSkillsNetwork-DS0105EN-SkillsNetwork/jupyterlite/build/1013.80715e2.js:1:270)), <anonymous>:2:1)\n    at eval (<anonymous>)\n    at s.eval [as _evalFunc] (eval at s (https://cf-courses-data.s3.us.cloud-object-storage.appdomain.cloud/IBMDeveloperSkillsNetwork-DS0105EN-SkillsNetwork/jupyterlite/build/1013.80715e2.js:1:270), <anonymous>:3:15)\n    at s._eval (https://cf-courses-data.s3.us.cloud-object-storage.appdomain.cloud/IBMDeveloperSkillsNetwork-DS0105EN-SkillsNetwork/jupyterlite/build/1013.80715e2.js:1:2501)\n    at s.executeRequest (https://cf-courses-data.s3.us.cloud-object-storage.appdomain.cloud/IBMDeveloperSkillsNetwork-DS0105EN-SkillsNetwork/jupyterlite/build/1013.80715e2.js:1:1372)\n    at s._execute (https://cf-courses-data.s3.us.cloud-object-storage.appdomain.cloud/IBMDeveloperSkillsNetwork-DS0105EN-SkillsNetwork/jupyterlite/build/6433.a5fc382.js:1:6015)\n    at s.handleMessage (https://cf-courses-data.s3.us.cloud-object-storage.appdomain.cloud/IBMDeveloperSkillsNetwork-DS0105EN-SkillsNetwork/jupyterlite/build/6433.a5fc382.js:1:2290)\n    at https://cf-courses-data.s3.us.cloud-object-storage.appdomain.cloud/IBMDeveloperSkillsNetwork-DS0105EN-SkillsNetwork/jupyterlite/build/6433.a5fc382.js:1:10032\n    at https://cf-courses-data.s3.us.cloud-object-storage.appdomain.cloud/IBMDeveloperSkillsNetwork-DS0105EN-SkillsNetwork/jupyterlite/build/6433.a5fc382.js:1:9106\n    at d.<anonymous> (https://cf-courses-data.s3.us.cloud-object-storage.appdomain.cloud/IBMDeveloperSkillsNetwork-DS0105EN-SkillsNetwork/jupyterlite/build/6433.a5fc382.js:1:7792)"
          ],
          "output_type": "error"
        }
      ]
    },
    {
      "cell_type": "markdown",
      "source": "#### 6. Dropping the duplicate rows\nThis is often a handy thing to do because a huge data set as in this case contains more than 10, 000 rows often have some duplicate data which might be disturbing, so here I remove all the duplicate value from the data-set. For example prior to removing I had 11914 rows of data but after removing the duplicates 10925 data meaning that I had 989 of duplicate data.\n\n",
      "metadata": {}
    },
    {
      "cell_type": "code",
      "source": "df.shape\n(11914, 10)\nduplicate_rows_df = df[df.duplicated()]\nprint(\"number of duplicate rows: \", duplicate_rows_df.shape)\n\n",
      "metadata": {
        "trusted": true
      },
      "execution_count": 10,
      "outputs": [
        {
          "ename": "ReferenceError",
          "evalue": "df is not defined",
          "traceback": [
            "ReferenceError: df is not defined\n    at eval (eval at <anonymous> (eval at s (https://cf-courses-data.s3.us.cloud-object-storage.appdomain.cloud/IBMDeveloperSkillsNetwork-DS0105EN-SkillsNetwork/jupyterlite/build/1013.80715e2.js:1:270)), <anonymous>:1:1)\n    at eval (<anonymous>)\n    at s.eval [as _evalFunc] (eval at s (https://cf-courses-data.s3.us.cloud-object-storage.appdomain.cloud/IBMDeveloperSkillsNetwork-DS0105EN-SkillsNetwork/jupyterlite/build/1013.80715e2.js:1:270), <anonymous>:3:15)\n    at s._eval (https://cf-courses-data.s3.us.cloud-object-storage.appdomain.cloud/IBMDeveloperSkillsNetwork-DS0105EN-SkillsNetwork/jupyterlite/build/1013.80715e2.js:1:2501)\n    at s.executeRequest (https://cf-courses-data.s3.us.cloud-object-storage.appdomain.cloud/IBMDeveloperSkillsNetwork-DS0105EN-SkillsNetwork/jupyterlite/build/1013.80715e2.js:1:1372)\n    at s._execute (https://cf-courses-data.s3.us.cloud-object-storage.appdomain.cloud/IBMDeveloperSkillsNetwork-DS0105EN-SkillsNetwork/jupyterlite/build/6433.a5fc382.js:1:6015)\n    at s.handleMessage (https://cf-courses-data.s3.us.cloud-object-storage.appdomain.cloud/IBMDeveloperSkillsNetwork-DS0105EN-SkillsNetwork/jupyterlite/build/6433.a5fc382.js:1:2290)\n    at https://cf-courses-data.s3.us.cloud-object-storage.appdomain.cloud/IBMDeveloperSkillsNetwork-DS0105EN-SkillsNetwork/jupyterlite/build/6433.a5fc382.js:1:10032\n    at https://cf-courses-data.s3.us.cloud-object-storage.appdomain.cloud/IBMDeveloperSkillsNetwork-DS0105EN-SkillsNetwork/jupyterlite/build/6433.a5fc382.js:1:9106\n    at d.<anonymous> (https://cf-courses-data.s3.us.cloud-object-storage.appdomain.cloud/IBMDeveloperSkillsNetwork-DS0105EN-SkillsNetwork/jupyterlite/build/6433.a5fc382.js:1:7792)"
          ],
          "output_type": "error"
        }
      ]
    },
    {
      "cell_type": "markdown",
      "source": "Now let us remove the duplicate data because it's ok to remove them.\n",
      "metadata": {}
    },
    {
      "cell_type": "code",
      "source": "df.count()      # Used to count the number of rows\n",
      "metadata": {
        "trusted": true
      },
      "execution_count": 11,
      "outputs": [
        {
          "ename": "SyntaxError",
          "evalue": "Invalid or unexpected token",
          "traceback": [
            "SyntaxError: Invalid or unexpected token\n    at eval (<anonymous>)\n    at s.eval [as _evalFunc] (eval at s (https://cf-courses-data.s3.us.cloud-object-storage.appdomain.cloud/IBMDeveloperSkillsNetwork-DS0105EN-SkillsNetwork/jupyterlite/build/1013.80715e2.js:1:270), <anonymous>:3:15)\n    at s._eval (https://cf-courses-data.s3.us.cloud-object-storage.appdomain.cloud/IBMDeveloperSkillsNetwork-DS0105EN-SkillsNetwork/jupyterlite/build/1013.80715e2.js:1:2501)\n    at s.executeRequest (https://cf-courses-data.s3.us.cloud-object-storage.appdomain.cloud/IBMDeveloperSkillsNetwork-DS0105EN-SkillsNetwork/jupyterlite/build/1013.80715e2.js:1:1372)\n    at s._execute (https://cf-courses-data.s3.us.cloud-object-storage.appdomain.cloud/IBMDeveloperSkillsNetwork-DS0105EN-SkillsNetwork/jupyterlite/build/6433.a5fc382.js:1:6015)\n    at s.handleMessage (https://cf-courses-data.s3.us.cloud-object-storage.appdomain.cloud/IBMDeveloperSkillsNetwork-DS0105EN-SkillsNetwork/jupyterlite/build/6433.a5fc382.js:1:2290)\n    at https://cf-courses-data.s3.us.cloud-object-storage.appdomain.cloud/IBMDeveloperSkillsNetwork-DS0105EN-SkillsNetwork/jupyterlite/build/6433.a5fc382.js:1:10032\n    at https://cf-courses-data.s3.us.cloud-object-storage.appdomain.cloud/IBMDeveloperSkillsNetwork-DS0105EN-SkillsNetwork/jupyterlite/build/6433.a5fc382.js:1:9106\n    at d.<anonymous> (https://cf-courses-data.s3.us.cloud-object-storage.appdomain.cloud/IBMDeveloperSkillsNetwork-DS0105EN-SkillsNetwork/jupyterlite/build/6433.a5fc382.js:1:7792)\n    at Generator.next (<anonymous>)"
          ],
          "output_type": "error"
        }
      ]
    },
    {
      "cell_type": "markdown",
      "source": "So seen above there are 11914 rows and we are removing 989 rows of duplicate data.",
      "metadata": {}
    },
    {
      "cell_type": "code",
      "source": "df = df.drop_duplicates()\ndf.head(5)",
      "metadata": {
        "trusted": true
      },
      "execution_count": 12,
      "outputs": [
        {
          "ename": "ReferenceError",
          "evalue": "df is not defined",
          "traceback": [
            "ReferenceError: df is not defined\n    at eval (eval at <anonymous> (eval at s (https://cf-courses-data.s3.us.cloud-object-storage.appdomain.cloud/IBMDeveloperSkillsNetwork-DS0105EN-SkillsNetwork/jupyterlite/build/1013.80715e2.js:1:270)), <anonymous>:1:1)\n    at eval (<anonymous>)\n    at s.eval [as _evalFunc] (eval at s (https://cf-courses-data.s3.us.cloud-object-storage.appdomain.cloud/IBMDeveloperSkillsNetwork-DS0105EN-SkillsNetwork/jupyterlite/build/1013.80715e2.js:1:270), <anonymous>:3:15)\n    at s._eval (https://cf-courses-data.s3.us.cloud-object-storage.appdomain.cloud/IBMDeveloperSkillsNetwork-DS0105EN-SkillsNetwork/jupyterlite/build/1013.80715e2.js:1:2501)\n    at s.executeRequest (https://cf-courses-data.s3.us.cloud-object-storage.appdomain.cloud/IBMDeveloperSkillsNetwork-DS0105EN-SkillsNetwork/jupyterlite/build/1013.80715e2.js:1:1372)\n    at s._execute (https://cf-courses-data.s3.us.cloud-object-storage.appdomain.cloud/IBMDeveloperSkillsNetwork-DS0105EN-SkillsNetwork/jupyterlite/build/6433.a5fc382.js:1:6015)\n    at s.handleMessage (https://cf-courses-data.s3.us.cloud-object-storage.appdomain.cloud/IBMDeveloperSkillsNetwork-DS0105EN-SkillsNetwork/jupyterlite/build/6433.a5fc382.js:1:2290)\n    at https://cf-courses-data.s3.us.cloud-object-storage.appdomain.cloud/IBMDeveloperSkillsNetwork-DS0105EN-SkillsNetwork/jupyterlite/build/6433.a5fc382.js:1:10032\n    at https://cf-courses-data.s3.us.cloud-object-storage.appdomain.cloud/IBMDeveloperSkillsNetwork-DS0105EN-SkillsNetwork/jupyterlite/build/6433.a5fc382.js:1:9106\n    at d.<anonymous> (https://cf-courses-data.s3.us.cloud-object-storage.appdomain.cloud/IBMDeveloperSkillsNetwork-DS0105EN-SkillsNetwork/jupyterlite/build/6433.a5fc382.js:1:7792)"
          ],
          "output_type": "error"
        }
      ]
    },
    {
      "cell_type": "code",
      "source": "df.count()",
      "metadata": {
        "trusted": true
      },
      "execution_count": 13,
      "outputs": [
        {
          "ename": "ReferenceError",
          "evalue": "df is not defined",
          "traceback": [
            "ReferenceError: df is not defined\n    at eval (eval at <anonymous> (eval at s (https://cf-courses-data.s3.us.cloud-object-storage.appdomain.cloud/IBMDeveloperSkillsNetwork-DS0105EN-SkillsNetwork/jupyterlite/build/1013.80715e2.js:1:270)), <anonymous>:1:1)\n    at eval (<anonymous>)\n    at s.eval [as _evalFunc] (eval at s (https://cf-courses-data.s3.us.cloud-object-storage.appdomain.cloud/IBMDeveloperSkillsNetwork-DS0105EN-SkillsNetwork/jupyterlite/build/1013.80715e2.js:1:270), <anonymous>:3:15)\n    at s._eval (https://cf-courses-data.s3.us.cloud-object-storage.appdomain.cloud/IBMDeveloperSkillsNetwork-DS0105EN-SkillsNetwork/jupyterlite/build/1013.80715e2.js:1:2501)\n    at s.executeRequest (https://cf-courses-data.s3.us.cloud-object-storage.appdomain.cloud/IBMDeveloperSkillsNetwork-DS0105EN-SkillsNetwork/jupyterlite/build/1013.80715e2.js:1:1372)\n    at s._execute (https://cf-courses-data.s3.us.cloud-object-storage.appdomain.cloud/IBMDeveloperSkillsNetwork-DS0105EN-SkillsNetwork/jupyterlite/build/6433.a5fc382.js:1:6015)\n    at s.handleMessage (https://cf-courses-data.s3.us.cloud-object-storage.appdomain.cloud/IBMDeveloperSkillsNetwork-DS0105EN-SkillsNetwork/jupyterlite/build/6433.a5fc382.js:1:2290)\n    at https://cf-courses-data.s3.us.cloud-object-storage.appdomain.cloud/IBMDeveloperSkillsNetwork-DS0105EN-SkillsNetwork/jupyterlite/build/6433.a5fc382.js:1:10032\n    at https://cf-courses-data.s3.us.cloud-object-storage.appdomain.cloud/IBMDeveloperSkillsNetwork-DS0105EN-SkillsNetwork/jupyterlite/build/6433.a5fc382.js:1:9106\n    at d.<anonymous> (https://cf-courses-data.s3.us.cloud-object-storage.appdomain.cloud/IBMDeveloperSkillsNetwork-DS0105EN-SkillsNetwork/jupyterlite/build/6433.a5fc382.js:1:7792)"
          ],
          "output_type": "error"
        }
      ]
    },
    {
      "cell_type": "code",
      "source": "#### 7. Dropping the missing or null values.\nThis is mostly similar to the previous step but in here all the missing values are detected and are dropped later. Now, this is not a good approach to do so, because many people just replace the missing values with the mean or the average of that column, but in this case, I just dropped that missing values. This is because there is nearly 100 missing value compared to 10, 000 values this is a small number and this is negligible so I just dropped those values.\n",
      "metadata": {
        "trusted": true
      },
      "execution_count": 14,
      "outputs": [
        {
          "ename": "SyntaxError",
          "evalue": "Invalid or unexpected token",
          "traceback": [
            "SyntaxError: Invalid or unexpected token\n    at eval (<anonymous>)\n    at s.eval [as _evalFunc] (eval at s (https://cf-courses-data.s3.us.cloud-object-storage.appdomain.cloud/IBMDeveloperSkillsNetwork-DS0105EN-SkillsNetwork/jupyterlite/build/1013.80715e2.js:1:270), <anonymous>:3:15)\n    at s._eval (https://cf-courses-data.s3.us.cloud-object-storage.appdomain.cloud/IBMDeveloperSkillsNetwork-DS0105EN-SkillsNetwork/jupyterlite/build/1013.80715e2.js:1:2501)\n    at s.executeRequest (https://cf-courses-data.s3.us.cloud-object-storage.appdomain.cloud/IBMDeveloperSkillsNetwork-DS0105EN-SkillsNetwork/jupyterlite/build/1013.80715e2.js:1:1372)\n    at s._execute (https://cf-courses-data.s3.us.cloud-object-storage.appdomain.cloud/IBMDeveloperSkillsNetwork-DS0105EN-SkillsNetwork/jupyterlite/build/6433.a5fc382.js:1:6015)\n    at s.handleMessage (https://cf-courses-data.s3.us.cloud-object-storage.appdomain.cloud/IBMDeveloperSkillsNetwork-DS0105EN-SkillsNetwork/jupyterlite/build/6433.a5fc382.js:1:2290)\n    at https://cf-courses-data.s3.us.cloud-object-storage.appdomain.cloud/IBMDeveloperSkillsNetwork-DS0105EN-SkillsNetwork/jupyterlite/build/6433.a5fc382.js:1:10032\n    at https://cf-courses-data.s3.us.cloud-object-storage.appdomain.cloud/IBMDeveloperSkillsNetwork-DS0105EN-SkillsNetwork/jupyterlite/build/6433.a5fc382.js:1:9106\n    at d.<anonymous> (https://cf-courses-data.s3.us.cloud-object-storage.appdomain.cloud/IBMDeveloperSkillsNetwork-DS0105EN-SkillsNetwork/jupyterlite/build/6433.a5fc382.js:1:7792)\n    at Generator.next (<anonymous>)"
          ],
          "output_type": "error"
        }
      ]
    },
    {
      "cell_type": "code",
      "source": "print(df.isnull().sum())",
      "metadata": {
        "trusted": true
      },
      "execution_count": 15,
      "outputs": [
        {
          "ename": "ReferenceError",
          "evalue": "df is not defined",
          "traceback": [
            "ReferenceError: df is not defined\n    at eval (eval at <anonymous> (eval at s (https://cf-courses-data.s3.us.cloud-object-storage.appdomain.cloud/IBMDeveloperSkillsNetwork-DS0105EN-SkillsNetwork/jupyterlite/build/1013.80715e2.js:1:270)), <anonymous>:1:7)\n    at eval (<anonymous>)\n    at s.eval [as _evalFunc] (eval at s (https://cf-courses-data.s3.us.cloud-object-storage.appdomain.cloud/IBMDeveloperSkillsNetwork-DS0105EN-SkillsNetwork/jupyterlite/build/1013.80715e2.js:1:270), <anonymous>:3:15)\n    at s._eval (https://cf-courses-data.s3.us.cloud-object-storage.appdomain.cloud/IBMDeveloperSkillsNetwork-DS0105EN-SkillsNetwork/jupyterlite/build/1013.80715e2.js:1:2501)\n    at s.executeRequest (https://cf-courses-data.s3.us.cloud-object-storage.appdomain.cloud/IBMDeveloperSkillsNetwork-DS0105EN-SkillsNetwork/jupyterlite/build/1013.80715e2.js:1:1372)\n    at s._execute (https://cf-courses-data.s3.us.cloud-object-storage.appdomain.cloud/IBMDeveloperSkillsNetwork-DS0105EN-SkillsNetwork/jupyterlite/build/6433.a5fc382.js:1:6015)\n    at s.handleMessage (https://cf-courses-data.s3.us.cloud-object-storage.appdomain.cloud/IBMDeveloperSkillsNetwork-DS0105EN-SkillsNetwork/jupyterlite/build/6433.a5fc382.js:1:2290)\n    at https://cf-courses-data.s3.us.cloud-object-storage.appdomain.cloud/IBMDeveloperSkillsNetwork-DS0105EN-SkillsNetwork/jupyterlite/build/6433.a5fc382.js:1:10032\n    at https://cf-courses-data.s3.us.cloud-object-storage.appdomain.cloud/IBMDeveloperSkillsNetwork-DS0105EN-SkillsNetwork/jupyterlite/build/6433.a5fc382.js:1:9106\n    at d.<anonymous> (https://cf-courses-data.s3.us.cloud-object-storage.appdomain.cloud/IBMDeveloperSkillsNetwork-DS0105EN-SkillsNetwork/jupyterlite/build/6433.a5fc382.js:1:7792)"
          ],
          "output_type": "error"
        }
      ]
    },
    {
      "cell_type": "code",
      "source": "This is the reason in the above step while counting both Cylinders and Horsepower (HP) had 10856 and 10895 over 10925 rows.\n",
      "metadata": {
        "trusted": true
      },
      "execution_count": 16,
      "outputs": [
        {
          "ename": "SyntaxError",
          "evalue": "Unexpected identifier 'is'",
          "traceback": [
            "SyntaxError: Unexpected identifier 'is'\n    at eval (<anonymous>)\n    at s.eval [as _evalFunc] (eval at s (https://cf-courses-data.s3.us.cloud-object-storage.appdomain.cloud/IBMDeveloperSkillsNetwork-DS0105EN-SkillsNetwork/jupyterlite/build/1013.80715e2.js:1:270), <anonymous>:3:15)\n    at s._eval (https://cf-courses-data.s3.us.cloud-object-storage.appdomain.cloud/IBMDeveloperSkillsNetwork-DS0105EN-SkillsNetwork/jupyterlite/build/1013.80715e2.js:1:2501)\n    at s.executeRequest (https://cf-courses-data.s3.us.cloud-object-storage.appdomain.cloud/IBMDeveloperSkillsNetwork-DS0105EN-SkillsNetwork/jupyterlite/build/1013.80715e2.js:1:1372)\n    at s._execute (https://cf-courses-data.s3.us.cloud-object-storage.appdomain.cloud/IBMDeveloperSkillsNetwork-DS0105EN-SkillsNetwork/jupyterlite/build/6433.a5fc382.js:1:6015)\n    at s.handleMessage (https://cf-courses-data.s3.us.cloud-object-storage.appdomain.cloud/IBMDeveloperSkillsNetwork-DS0105EN-SkillsNetwork/jupyterlite/build/6433.a5fc382.js:1:2290)\n    at https://cf-courses-data.s3.us.cloud-object-storage.appdomain.cloud/IBMDeveloperSkillsNetwork-DS0105EN-SkillsNetwork/jupyterlite/build/6433.a5fc382.js:1:10032\n    at https://cf-courses-data.s3.us.cloud-object-storage.appdomain.cloud/IBMDeveloperSkillsNetwork-DS0105EN-SkillsNetwork/jupyterlite/build/6433.a5fc382.js:1:9106\n    at d.<anonymous> (https://cf-courses-data.s3.us.cloud-object-storage.appdomain.cloud/IBMDeveloperSkillsNetwork-DS0105EN-SkillsNetwork/jupyterlite/build/6433.a5fc382.js:1:7792)\n    at Generator.next (<anonymous>)"
          ],
          "output_type": "error"
        }
      ]
    },
    {
      "cell_type": "code",
      "source": "df = df.dropna()    # Dropping the missing values.\ndf.count()",
      "metadata": {
        "trusted": true
      },
      "execution_count": 17,
      "outputs": [
        {
          "ename": "SyntaxError",
          "evalue": "Invalid or unexpected token",
          "traceback": [
            "SyntaxError: Invalid or unexpected token\n    at eval (<anonymous>)\n    at s.eval [as _evalFunc] (eval at s (https://cf-courses-data.s3.us.cloud-object-storage.appdomain.cloud/IBMDeveloperSkillsNetwork-DS0105EN-SkillsNetwork/jupyterlite/build/1013.80715e2.js:1:270), <anonymous>:3:15)\n    at s._eval (https://cf-courses-data.s3.us.cloud-object-storage.appdomain.cloud/IBMDeveloperSkillsNetwork-DS0105EN-SkillsNetwork/jupyterlite/build/1013.80715e2.js:1:2501)\n    at s.executeRequest (https://cf-courses-data.s3.us.cloud-object-storage.appdomain.cloud/IBMDeveloperSkillsNetwork-DS0105EN-SkillsNetwork/jupyterlite/build/1013.80715e2.js:1:1372)\n    at s._execute (https://cf-courses-data.s3.us.cloud-object-storage.appdomain.cloud/IBMDeveloperSkillsNetwork-DS0105EN-SkillsNetwork/jupyterlite/build/6433.a5fc382.js:1:6015)\n    at s.handleMessage (https://cf-courses-data.s3.us.cloud-object-storage.appdomain.cloud/IBMDeveloperSkillsNetwork-DS0105EN-SkillsNetwork/jupyterlite/build/6433.a5fc382.js:1:2290)\n    at https://cf-courses-data.s3.us.cloud-object-storage.appdomain.cloud/IBMDeveloperSkillsNetwork-DS0105EN-SkillsNetwork/jupyterlite/build/6433.a5fc382.js:1:10032\n    at https://cf-courses-data.s3.us.cloud-object-storage.appdomain.cloud/IBMDeveloperSkillsNetwork-DS0105EN-SkillsNetwork/jupyterlite/build/6433.a5fc382.js:1:9106\n    at d.<anonymous> (https://cf-courses-data.s3.us.cloud-object-storage.appdomain.cloud/IBMDeveloperSkillsNetwork-DS0105EN-SkillsNetwork/jupyterlite/build/6433.a5fc382.js:1:7792)\n    at Generator.next (<anonymous>)"
          ],
          "output_type": "error"
        }
      ]
    },
    {
      "cell_type": "code",
      "source": "Now we have removed all the rows which contain the Null or N/A values (Cylinders and Horsepower (HP)).",
      "metadata": {
        "trusted": true
      },
      "execution_count": 18,
      "outputs": [
        {
          "ename": "SyntaxError",
          "evalue": "Unexpected identifier 'we'",
          "traceback": [
            "SyntaxError: Unexpected identifier 'we'\n    at eval (<anonymous>)\n    at s.eval [as _evalFunc] (eval at s (https://cf-courses-data.s3.us.cloud-object-storage.appdomain.cloud/IBMDeveloperSkillsNetwork-DS0105EN-SkillsNetwork/jupyterlite/build/1013.80715e2.js:1:270), <anonymous>:3:15)\n    at s._eval (https://cf-courses-data.s3.us.cloud-object-storage.appdomain.cloud/IBMDeveloperSkillsNetwork-DS0105EN-SkillsNetwork/jupyterlite/build/1013.80715e2.js:1:2501)\n    at s.executeRequest (https://cf-courses-data.s3.us.cloud-object-storage.appdomain.cloud/IBMDeveloperSkillsNetwork-DS0105EN-SkillsNetwork/jupyterlite/build/1013.80715e2.js:1:1372)\n    at s._execute (https://cf-courses-data.s3.us.cloud-object-storage.appdomain.cloud/IBMDeveloperSkillsNetwork-DS0105EN-SkillsNetwork/jupyterlite/build/6433.a5fc382.js:1:6015)\n    at s.handleMessage (https://cf-courses-data.s3.us.cloud-object-storage.appdomain.cloud/IBMDeveloperSkillsNetwork-DS0105EN-SkillsNetwork/jupyterlite/build/6433.a5fc382.js:1:2290)\n    at https://cf-courses-data.s3.us.cloud-object-storage.appdomain.cloud/IBMDeveloperSkillsNetwork-DS0105EN-SkillsNetwork/jupyterlite/build/6433.a5fc382.js:1:10032\n    at https://cf-courses-data.s3.us.cloud-object-storage.appdomain.cloud/IBMDeveloperSkillsNetwork-DS0105EN-SkillsNetwork/jupyterlite/build/6433.a5fc382.js:1:9106\n    at d.<anonymous> (https://cf-courses-data.s3.us.cloud-object-storage.appdomain.cloud/IBMDeveloperSkillsNetwork-DS0105EN-SkillsNetwork/jupyterlite/build/6433.a5fc382.js:1:7792)\n    at Generator.next (<anonymous>)"
          ],
          "output_type": "error"
        }
      ]
    },
    {
      "cell_type": "code",
      "source": "print(df.isnull().sum())   # After dropping the values",
      "metadata": {
        "trusted": true
      },
      "execution_count": 19,
      "outputs": [
        {
          "ename": "SyntaxError",
          "evalue": "Invalid or unexpected token",
          "traceback": [
            "SyntaxError: Invalid or unexpected token\n    at eval (<anonymous>)\n    at s.eval [as _evalFunc] (eval at s (https://cf-courses-data.s3.us.cloud-object-storage.appdomain.cloud/IBMDeveloperSkillsNetwork-DS0105EN-SkillsNetwork/jupyterlite/build/1013.80715e2.js:1:270), <anonymous>:3:15)\n    at s._eval (https://cf-courses-data.s3.us.cloud-object-storage.appdomain.cloud/IBMDeveloperSkillsNetwork-DS0105EN-SkillsNetwork/jupyterlite/build/1013.80715e2.js:1:2501)\n    at s.executeRequest (https://cf-courses-data.s3.us.cloud-object-storage.appdomain.cloud/IBMDeveloperSkillsNetwork-DS0105EN-SkillsNetwork/jupyterlite/build/1013.80715e2.js:1:1372)\n    at s._execute (https://cf-courses-data.s3.us.cloud-object-storage.appdomain.cloud/IBMDeveloperSkillsNetwork-DS0105EN-SkillsNetwork/jupyterlite/build/6433.a5fc382.js:1:6015)\n    at s.handleMessage (https://cf-courses-data.s3.us.cloud-object-storage.appdomain.cloud/IBMDeveloperSkillsNetwork-DS0105EN-SkillsNetwork/jupyterlite/build/6433.a5fc382.js:1:2290)\n    at https://cf-courses-data.s3.us.cloud-object-storage.appdomain.cloud/IBMDeveloperSkillsNetwork-DS0105EN-SkillsNetwork/jupyterlite/build/6433.a5fc382.js:1:10032\n    at https://cf-courses-data.s3.us.cloud-object-storage.appdomain.cloud/IBMDeveloperSkillsNetwork-DS0105EN-SkillsNetwork/jupyterlite/build/6433.a5fc382.js:1:9106\n    at d.<anonymous> (https://cf-courses-data.s3.us.cloud-object-storage.appdomain.cloud/IBMDeveloperSkillsNetwork-DS0105EN-SkillsNetwork/jupyterlite/build/6433.a5fc382.js:1:7792)\n    at Generator.next (<anonymous>)"
          ],
          "output_type": "error"
        }
      ]
    },
    {
      "cell_type": "code",
      "source": "#### 8. Detecting Outliers\nAn outlier is a point or set of points that are different from other points. Sometimes they can be very high or very low. It's often a good idea to detect and remove the outliers. Because outliers are one of the primary reasons for resulting in a less accurate model. Hence it's a good idea to remove them. The outlier detection and removing that I am going to perform is called IQR score technique. Often outliers can be seen with visualizations using a box plot. Shown below are the box plot of MSRP, Cylinders, Horsepower and EngineSize. Herein all the plots, you can find some points are outside the box they are none other than outliers. The technique of finding and removing outlier that I am performing in this assignment is taken help of a tutorial from towards data science.\n",
      "metadata": {
        "trusted": true
      },
      "execution_count": 20,
      "outputs": [
        {
          "ename": "SyntaxError",
          "evalue": "Invalid or unexpected token",
          "traceback": [
            "SyntaxError: Invalid or unexpected token\n    at eval (<anonymous>)\n    at s.eval [as _evalFunc] (eval at s (https://cf-courses-data.s3.us.cloud-object-storage.appdomain.cloud/IBMDeveloperSkillsNetwork-DS0105EN-SkillsNetwork/jupyterlite/build/1013.80715e2.js:1:270), <anonymous>:3:15)\n    at s._eval (https://cf-courses-data.s3.us.cloud-object-storage.appdomain.cloud/IBMDeveloperSkillsNetwork-DS0105EN-SkillsNetwork/jupyterlite/build/1013.80715e2.js:1:2501)\n    at s.executeRequest (https://cf-courses-data.s3.us.cloud-object-storage.appdomain.cloud/IBMDeveloperSkillsNetwork-DS0105EN-SkillsNetwork/jupyterlite/build/1013.80715e2.js:1:1372)\n    at s._execute (https://cf-courses-data.s3.us.cloud-object-storage.appdomain.cloud/IBMDeveloperSkillsNetwork-DS0105EN-SkillsNetwork/jupyterlite/build/6433.a5fc382.js:1:6015)\n    at s.handleMessage (https://cf-courses-data.s3.us.cloud-object-storage.appdomain.cloud/IBMDeveloperSkillsNetwork-DS0105EN-SkillsNetwork/jupyterlite/build/6433.a5fc382.js:1:2290)\n    at https://cf-courses-data.s3.us.cloud-object-storage.appdomain.cloud/IBMDeveloperSkillsNetwork-DS0105EN-SkillsNetwork/jupyterlite/build/6433.a5fc382.js:1:10032\n    at https://cf-courses-data.s3.us.cloud-object-storage.appdomain.cloud/IBMDeveloperSkillsNetwork-DS0105EN-SkillsNetwork/jupyterlite/build/6433.a5fc382.js:1:9106\n    at d.<anonymous> (https://cf-courses-data.s3.us.cloud-object-storage.appdomain.cloud/IBMDeveloperSkillsNetwork-DS0105EN-SkillsNetwork/jupyterlite/build/6433.a5fc382.js:1:7792)\n    at Generator.next (<anonymous>)"
          ],
          "output_type": "error"
        }
      ]
    },
    {
      "cell_type": "code",
      "source": "\nsns.boxplot(x=df['Price'])\n<matplotlib.axes._subplots.AxesSubplot at 0x7f0d36a38be0>\n\nsns.boxplot(x=df['HP'])\n<matplotlib.axes._subplots.AxesSubplot at 0x7f0d369b3ba8>\n\nsns.boxplot(x=df['Cylinders'])\n<matplotlib.axes._subplots.AxesSubplot at 0x7f0d3413ff28>\n\nQ1 = df.quantile(0.25)\nQ3 = df.quantile(0.75)\nIQR = Q3 - Q1\nprint(IQR)\n",
      "metadata": {
        "trusted": true
      },
      "execution_count": 21,
      "outputs": [
        {
          "ename": "SyntaxError",
          "evalue": "Unexpected identifier 'at'",
          "traceback": [
            "SyntaxError: Unexpected identifier 'at'\n    at eval (<anonymous>)\n    at s.eval [as _evalFunc] (eval at s (https://cf-courses-data.s3.us.cloud-object-storage.appdomain.cloud/IBMDeveloperSkillsNetwork-DS0105EN-SkillsNetwork/jupyterlite/build/1013.80715e2.js:1:270), <anonymous>:3:15)\n    at s._eval (https://cf-courses-data.s3.us.cloud-object-storage.appdomain.cloud/IBMDeveloperSkillsNetwork-DS0105EN-SkillsNetwork/jupyterlite/build/1013.80715e2.js:1:2501)\n    at s.executeRequest (https://cf-courses-data.s3.us.cloud-object-storage.appdomain.cloud/IBMDeveloperSkillsNetwork-DS0105EN-SkillsNetwork/jupyterlite/build/1013.80715e2.js:1:1372)\n    at s._execute (https://cf-courses-data.s3.us.cloud-object-storage.appdomain.cloud/IBMDeveloperSkillsNetwork-DS0105EN-SkillsNetwork/jupyterlite/build/6433.a5fc382.js:1:6015)\n    at s.handleMessage (https://cf-courses-data.s3.us.cloud-object-storage.appdomain.cloud/IBMDeveloperSkillsNetwork-DS0105EN-SkillsNetwork/jupyterlite/build/6433.a5fc382.js:1:2290)\n    at https://cf-courses-data.s3.us.cloud-object-storage.appdomain.cloud/IBMDeveloperSkillsNetwork-DS0105EN-SkillsNetwork/jupyterlite/build/6433.a5fc382.js:1:10032\n    at https://cf-courses-data.s3.us.cloud-object-storage.appdomain.cloud/IBMDeveloperSkillsNetwork-DS0105EN-SkillsNetwork/jupyterlite/build/6433.a5fc382.js:1:9106\n    at d.<anonymous> (https://cf-courses-data.s3.us.cloud-object-storage.appdomain.cloud/IBMDeveloperSkillsNetwork-DS0105EN-SkillsNetwork/jupyterlite/build/6433.a5fc382.js:1:7792)\n    at Generator.next (<anonymous>)"
          ],
          "output_type": "error"
        }
      ]
    },
    {
      "cell_type": "code",
      "source": "Don't worry about the above values because it's not important to know each and every one of them because it's just important to know how to use this technique in order to remove the outliers.\n",
      "metadata": {
        "trusted": true
      },
      "execution_count": 22,
      "outputs": [
        {
          "ename": "SyntaxError",
          "evalue": "Unexpected string",
          "traceback": [
            "SyntaxError: Unexpected string\n    at eval (<anonymous>)\n    at s.eval [as _evalFunc] (eval at s (https://cf-courses-data.s3.us.cloud-object-storage.appdomain.cloud/IBMDeveloperSkillsNetwork-DS0105EN-SkillsNetwork/jupyterlite/build/1013.80715e2.js:1:270), <anonymous>:3:15)\n    at s._eval (https://cf-courses-data.s3.us.cloud-object-storage.appdomain.cloud/IBMDeveloperSkillsNetwork-DS0105EN-SkillsNetwork/jupyterlite/build/1013.80715e2.js:1:2501)\n    at s.executeRequest (https://cf-courses-data.s3.us.cloud-object-storage.appdomain.cloud/IBMDeveloperSkillsNetwork-DS0105EN-SkillsNetwork/jupyterlite/build/1013.80715e2.js:1:1372)\n    at s._execute (https://cf-courses-data.s3.us.cloud-object-storage.appdomain.cloud/IBMDeveloperSkillsNetwork-DS0105EN-SkillsNetwork/jupyterlite/build/6433.a5fc382.js:1:6015)\n    at s.handleMessage (https://cf-courses-data.s3.us.cloud-object-storage.appdomain.cloud/IBMDeveloperSkillsNetwork-DS0105EN-SkillsNetwork/jupyterlite/build/6433.a5fc382.js:1:2290)\n    at https://cf-courses-data.s3.us.cloud-object-storage.appdomain.cloud/IBMDeveloperSkillsNetwork-DS0105EN-SkillsNetwork/jupyterlite/build/6433.a5fc382.js:1:10032\n    at https://cf-courses-data.s3.us.cloud-object-storage.appdomain.cloud/IBMDeveloperSkillsNetwork-DS0105EN-SkillsNetwork/jupyterlite/build/6433.a5fc382.js:1:9106\n    at d.<anonymous> (https://cf-courses-data.s3.us.cloud-object-storage.appdomain.cloud/IBMDeveloperSkillsNetwork-DS0105EN-SkillsNetwork/jupyterlite/build/6433.a5fc382.js:1:7792)\n    at Generator.next (<anonymous>)"
          ],
          "output_type": "error"
        }
      ]
    },
    {
      "cell_type": "code",
      "source": "df = df[~((df < (Q1 - 1.5 * IQR)) |(df > (Q3 + 1.5 * IQR))).any(axis=1)]\ndf.shape",
      "metadata": {
        "trusted": true
      },
      "execution_count": 23,
      "outputs": [
        {
          "ename": "ReferenceError",
          "evalue": "df is not defined",
          "traceback": [
            "ReferenceError: df is not defined\n    at eval (eval at <anonymous> (eval at s (https://cf-courses-data.s3.us.cloud-object-storage.appdomain.cloud/IBMDeveloperSkillsNetwork-DS0105EN-SkillsNetwork/jupyterlite/build/1013.80715e2.js:1:270)), <anonymous>:1:1)\n    at eval (<anonymous>)\n    at s.eval [as _evalFunc] (eval at s (https://cf-courses-data.s3.us.cloud-object-storage.appdomain.cloud/IBMDeveloperSkillsNetwork-DS0105EN-SkillsNetwork/jupyterlite/build/1013.80715e2.js:1:270), <anonymous>:3:15)\n    at s._eval (https://cf-courses-data.s3.us.cloud-object-storage.appdomain.cloud/IBMDeveloperSkillsNetwork-DS0105EN-SkillsNetwork/jupyterlite/build/1013.80715e2.js:1:2501)\n    at s.executeRequest (https://cf-courses-data.s3.us.cloud-object-storage.appdomain.cloud/IBMDeveloperSkillsNetwork-DS0105EN-SkillsNetwork/jupyterlite/build/1013.80715e2.js:1:1372)\n    at s._execute (https://cf-courses-data.s3.us.cloud-object-storage.appdomain.cloud/IBMDeveloperSkillsNetwork-DS0105EN-SkillsNetwork/jupyterlite/build/6433.a5fc382.js:1:6015)\n    at s.handleMessage (https://cf-courses-data.s3.us.cloud-object-storage.appdomain.cloud/IBMDeveloperSkillsNetwork-DS0105EN-SkillsNetwork/jupyterlite/build/6433.a5fc382.js:1:2290)\n    at https://cf-courses-data.s3.us.cloud-object-storage.appdomain.cloud/IBMDeveloperSkillsNetwork-DS0105EN-SkillsNetwork/jupyterlite/build/6433.a5fc382.js:1:10032\n    at https://cf-courses-data.s3.us.cloud-object-storage.appdomain.cloud/IBMDeveloperSkillsNetwork-DS0105EN-SkillsNetwork/jupyterlite/build/6433.a5fc382.js:1:9106\n    at d.<anonymous> (https://cf-courses-data.s3.us.cloud-object-storage.appdomain.cloud/IBMDeveloperSkillsNetwork-DS0105EN-SkillsNetwork/jupyterlite/build/6433.a5fc382.js:1:7792)"
          ],
          "output_type": "error"
        }
      ]
    },
    {
      "cell_type": "code",
      "source": "As seen above there were around 1600 rows were outliers. But you cannot completely remove the outliers because even after you use the above technique there maybe 1–2 outlier unremoved but that ok because there were more than 100 outliers. Something is better than nothing.\n#### 9. Plot different features against one another (scatter), against frequency (histogram)\nHistogram\nHistogram refers to the frequency of occurrence of variables in an interval. In this case, there are mainly 10 different types of car manufacturing companies, but it is often important to know who has the most number of cars. To do this histogram is one of the trivial solutions which lets us know the total number of car manufactured by a different company.\n",
      "metadata": {
        "trusted": true
      },
      "execution_count": 24,
      "outputs": [
        {
          "ename": "SyntaxError",
          "evalue": "Unexpected identifier 'seen'",
          "traceback": [
            "SyntaxError: Unexpected identifier 'seen'\n    at eval (<anonymous>)\n    at s.eval [as _evalFunc] (eval at s (https://cf-courses-data.s3.us.cloud-object-storage.appdomain.cloud/IBMDeveloperSkillsNetwork-DS0105EN-SkillsNetwork/jupyterlite/build/1013.80715e2.js:1:270), <anonymous>:3:15)\n    at s._eval (https://cf-courses-data.s3.us.cloud-object-storage.appdomain.cloud/IBMDeveloperSkillsNetwork-DS0105EN-SkillsNetwork/jupyterlite/build/1013.80715e2.js:1:2501)\n    at s.executeRequest (https://cf-courses-data.s3.us.cloud-object-storage.appdomain.cloud/IBMDeveloperSkillsNetwork-DS0105EN-SkillsNetwork/jupyterlite/build/1013.80715e2.js:1:1372)\n    at s._execute (https://cf-courses-data.s3.us.cloud-object-storage.appdomain.cloud/IBMDeveloperSkillsNetwork-DS0105EN-SkillsNetwork/jupyterlite/build/6433.a5fc382.js:1:6015)\n    at s.handleMessage (https://cf-courses-data.s3.us.cloud-object-storage.appdomain.cloud/IBMDeveloperSkillsNetwork-DS0105EN-SkillsNetwork/jupyterlite/build/6433.a5fc382.js:1:2290)\n    at https://cf-courses-data.s3.us.cloud-object-storage.appdomain.cloud/IBMDeveloperSkillsNetwork-DS0105EN-SkillsNetwork/jupyterlite/build/6433.a5fc382.js:1:10032\n    at https://cf-courses-data.s3.us.cloud-object-storage.appdomain.cloud/IBMDeveloperSkillsNetwork-DS0105EN-SkillsNetwork/jupyterlite/build/6433.a5fc382.js:1:9106\n    at d.<anonymous> (https://cf-courses-data.s3.us.cloud-object-storage.appdomain.cloud/IBMDeveloperSkillsNetwork-DS0105EN-SkillsNetwork/jupyterlite/build/6433.a5fc382.js:1:7792)\n    at Generator.next (<anonymous>)"
          ],
          "output_type": "error"
        }
      ]
    },
    {
      "cell_type": "code",
      "source": "df.Make.value_counts().nlargest(40).plot(kind='bar', figsize=(10,5))\nplt.title(\"Number of cars by make\")\nplt.ylabel('Number of cars')\nplt.xlabel('Make');",
      "metadata": {
        "trusted": true
      },
      "execution_count": 25,
      "outputs": [
        {
          "ename": "ReferenceError",
          "evalue": "df is not defined",
          "traceback": [
            "ReferenceError: df is not defined\n    at eval (eval at <anonymous> (eval at s (https://cf-courses-data.s3.us.cloud-object-storage.appdomain.cloud/IBMDeveloperSkillsNetwork-DS0105EN-SkillsNetwork/jupyterlite/build/1013.80715e2.js:1:270)), <anonymous>:1:1)\n    at eval (<anonymous>)\n    at s.eval [as _evalFunc] (eval at s (https://cf-courses-data.s3.us.cloud-object-storage.appdomain.cloud/IBMDeveloperSkillsNetwork-DS0105EN-SkillsNetwork/jupyterlite/build/1013.80715e2.js:1:270), <anonymous>:3:15)\n    at s._eval (https://cf-courses-data.s3.us.cloud-object-storage.appdomain.cloud/IBMDeveloperSkillsNetwork-DS0105EN-SkillsNetwork/jupyterlite/build/1013.80715e2.js:1:2501)\n    at s.executeRequest (https://cf-courses-data.s3.us.cloud-object-storage.appdomain.cloud/IBMDeveloperSkillsNetwork-DS0105EN-SkillsNetwork/jupyterlite/build/1013.80715e2.js:1:1372)\n    at s._execute (https://cf-courses-data.s3.us.cloud-object-storage.appdomain.cloud/IBMDeveloperSkillsNetwork-DS0105EN-SkillsNetwork/jupyterlite/build/6433.a5fc382.js:1:6015)\n    at s.handleMessage (https://cf-courses-data.s3.us.cloud-object-storage.appdomain.cloud/IBMDeveloperSkillsNetwork-DS0105EN-SkillsNetwork/jupyterlite/build/6433.a5fc382.js:1:2290)\n    at https://cf-courses-data.s3.us.cloud-object-storage.appdomain.cloud/IBMDeveloperSkillsNetwork-DS0105EN-SkillsNetwork/jupyterlite/build/6433.a5fc382.js:1:10032\n    at https://cf-courses-data.s3.us.cloud-object-storage.appdomain.cloud/IBMDeveloperSkillsNetwork-DS0105EN-SkillsNetwork/jupyterlite/build/6433.a5fc382.js:1:9106\n    at d.<anonymous> (https://cf-courses-data.s3.us.cloud-object-storage.appdomain.cloud/IBMDeveloperSkillsNetwork-DS0105EN-SkillsNetwork/jupyterlite/build/6433.a5fc382.js:1:7792)"
          ],
          "output_type": "error"
        }
      ]
    },
    {
      "cell_type": "code",
      "source": "Heat Maps\nHeat Maps is a type of plot which is necessary when we need to find the dependent variables. One of the best way to find the relationship between the features can be done using heat maps. In the below heat map we know that the price feature depends mainly on the Engine Size, Horsepower, and Cylinders.\n",
      "metadata": {
        "trusted": true
      },
      "execution_count": 26,
      "outputs": [
        {
          "ename": "SyntaxError",
          "evalue": "Unexpected identifier 'Maps'",
          "traceback": [
            "SyntaxError: Unexpected identifier 'Maps'\n    at eval (<anonymous>)\n    at s.eval [as _evalFunc] (eval at s (https://cf-courses-data.s3.us.cloud-object-storage.appdomain.cloud/IBMDeveloperSkillsNetwork-DS0105EN-SkillsNetwork/jupyterlite/build/1013.80715e2.js:1:270), <anonymous>:3:15)\n    at s._eval (https://cf-courses-data.s3.us.cloud-object-storage.appdomain.cloud/IBMDeveloperSkillsNetwork-DS0105EN-SkillsNetwork/jupyterlite/build/1013.80715e2.js:1:2501)\n    at s.executeRequest (https://cf-courses-data.s3.us.cloud-object-storage.appdomain.cloud/IBMDeveloperSkillsNetwork-DS0105EN-SkillsNetwork/jupyterlite/build/1013.80715e2.js:1:1372)\n    at s._execute (https://cf-courses-data.s3.us.cloud-object-storage.appdomain.cloud/IBMDeveloperSkillsNetwork-DS0105EN-SkillsNetwork/jupyterlite/build/6433.a5fc382.js:1:6015)\n    at s.handleMessage (https://cf-courses-data.s3.us.cloud-object-storage.appdomain.cloud/IBMDeveloperSkillsNetwork-DS0105EN-SkillsNetwork/jupyterlite/build/6433.a5fc382.js:1:2290)\n    at https://cf-courses-data.s3.us.cloud-object-storage.appdomain.cloud/IBMDeveloperSkillsNetwork-DS0105EN-SkillsNetwork/jupyterlite/build/6433.a5fc382.js:1:10032\n    at https://cf-courses-data.s3.us.cloud-object-storage.appdomain.cloud/IBMDeveloperSkillsNetwork-DS0105EN-SkillsNetwork/jupyterlite/build/6433.a5fc382.js:1:9106\n    at d.<anonymous> (https://cf-courses-data.s3.us.cloud-object-storage.appdomain.cloud/IBMDeveloperSkillsNetwork-DS0105EN-SkillsNetwork/jupyterlite/build/6433.a5fc382.js:1:7792)\n    at Generator.next (<anonymous>)"
          ],
          "output_type": "error"
        }
      ]
    },
    {
      "cell_type": "code",
      "source": "plt.figure(figsize=(10,5))\nc= df.corr()\nsns.heatmap(c,cmap=\"BrBG\",annot=True)\nc\n",
      "metadata": {
        "trusted": true
      },
      "execution_count": 27,
      "outputs": [
        {
          "ename": "ReferenceError",
          "evalue": "plt is not defined",
          "traceback": [
            "ReferenceError: plt is not defined\n    at eval (eval at <anonymous> (eval at s (https://cf-courses-data.s3.us.cloud-object-storage.appdomain.cloud/IBMDeveloperSkillsNetwork-DS0105EN-SkillsNetwork/jupyterlite/build/1013.80715e2.js:1:270)), <anonymous>:1:1)\n    at eval (<anonymous>)\n    at s.eval [as _evalFunc] (eval at s (https://cf-courses-data.s3.us.cloud-object-storage.appdomain.cloud/IBMDeveloperSkillsNetwork-DS0105EN-SkillsNetwork/jupyterlite/build/1013.80715e2.js:1:270), <anonymous>:3:15)\n    at s._eval (https://cf-courses-data.s3.us.cloud-object-storage.appdomain.cloud/IBMDeveloperSkillsNetwork-DS0105EN-SkillsNetwork/jupyterlite/build/1013.80715e2.js:1:2501)\n    at s.executeRequest (https://cf-courses-data.s3.us.cloud-object-storage.appdomain.cloud/IBMDeveloperSkillsNetwork-DS0105EN-SkillsNetwork/jupyterlite/build/1013.80715e2.js:1:1372)\n    at s._execute (https://cf-courses-data.s3.us.cloud-object-storage.appdomain.cloud/IBMDeveloperSkillsNetwork-DS0105EN-SkillsNetwork/jupyterlite/build/6433.a5fc382.js:1:6015)\n    at s.handleMessage (https://cf-courses-data.s3.us.cloud-object-storage.appdomain.cloud/IBMDeveloperSkillsNetwork-DS0105EN-SkillsNetwork/jupyterlite/build/6433.a5fc382.js:1:2290)\n    at https://cf-courses-data.s3.us.cloud-object-storage.appdomain.cloud/IBMDeveloperSkillsNetwork-DS0105EN-SkillsNetwork/jupyterlite/build/6433.a5fc382.js:1:10032\n    at https://cf-courses-data.s3.us.cloud-object-storage.appdomain.cloud/IBMDeveloperSkillsNetwork-DS0105EN-SkillsNetwork/jupyterlite/build/6433.a5fc382.js:1:9106\n    at d.<anonymous> (https://cf-courses-data.s3.us.cloud-object-storage.appdomain.cloud/IBMDeveloperSkillsNetwork-DS0105EN-SkillsNetwork/jupyterlite/build/6433.a5fc382.js:1:7792)"
          ],
          "output_type": "error"
        }
      ]
    },
    {
      "cell_type": "code",
      "source": "\nScatterplot\nWe generally use scatter plots to find the correlation between two variables. Here the scatter plots are plotted between Horsepower and Price and we can see the plot below. With the plot given below, we can easily draw a trend line. These features provide a good scattering of points.\n",
      "metadata": {
        "trusted": true
      },
      "execution_count": 28,
      "outputs": [
        {
          "ename": "SyntaxError",
          "evalue": "Unexpected identifier 'generally'",
          "traceback": [
            "SyntaxError: Unexpected identifier 'generally'\n    at eval (<anonymous>)\n    at s.eval [as _evalFunc] (eval at s (https://cf-courses-data.s3.us.cloud-object-storage.appdomain.cloud/IBMDeveloperSkillsNetwork-DS0105EN-SkillsNetwork/jupyterlite/build/1013.80715e2.js:1:270), <anonymous>:3:15)\n    at s._eval (https://cf-courses-data.s3.us.cloud-object-storage.appdomain.cloud/IBMDeveloperSkillsNetwork-DS0105EN-SkillsNetwork/jupyterlite/build/1013.80715e2.js:1:2501)\n    at s.executeRequest (https://cf-courses-data.s3.us.cloud-object-storage.appdomain.cloud/IBMDeveloperSkillsNetwork-DS0105EN-SkillsNetwork/jupyterlite/build/1013.80715e2.js:1:1372)\n    at s._execute (https://cf-courses-data.s3.us.cloud-object-storage.appdomain.cloud/IBMDeveloperSkillsNetwork-DS0105EN-SkillsNetwork/jupyterlite/build/6433.a5fc382.js:1:6015)\n    at s.handleMessage (https://cf-courses-data.s3.us.cloud-object-storage.appdomain.cloud/IBMDeveloperSkillsNetwork-DS0105EN-SkillsNetwork/jupyterlite/build/6433.a5fc382.js:1:2290)\n    at https://cf-courses-data.s3.us.cloud-object-storage.appdomain.cloud/IBMDeveloperSkillsNetwork-DS0105EN-SkillsNetwork/jupyterlite/build/6433.a5fc382.js:1:10032\n    at https://cf-courses-data.s3.us.cloud-object-storage.appdomain.cloud/IBMDeveloperSkillsNetwork-DS0105EN-SkillsNetwork/jupyterlite/build/6433.a5fc382.js:1:9106\n    at d.<anonymous> (https://cf-courses-data.s3.us.cloud-object-storage.appdomain.cloud/IBMDeveloperSkillsNetwork-DS0105EN-SkillsNetwork/jupyterlite/build/6433.a5fc382.js:1:7792)\n    at Generator.next (<anonymous>)"
          ],
          "output_type": "error"
        }
      ]
    },
    {
      "cell_type": "code",
      "source": "fig, ax = plt.subplots(figsize=(10,6))\nax.scatter(df['HP'], df['Price'])\nax.set_xlabel('HP')\nax.set_ylabel('Price')\nplt.show()",
      "metadata": {
        "trusted": true
      },
      "execution_count": 29,
      "outputs": [
        {
          "ename": "ReferenceError",
          "evalue": "fig is not defined",
          "traceback": [
            "ReferenceError: fig is not defined\n    at eval (eval at <anonymous> (eval at s (https://cf-courses-data.s3.us.cloud-object-storage.appdomain.cloud/IBMDeveloperSkillsNetwork-DS0105EN-SkillsNetwork/jupyterlite/build/1013.80715e2.js:1:270)), <anonymous>:1:1)\n    at eval (<anonymous>)\n    at s.eval [as _evalFunc] (eval at s (https://cf-courses-data.s3.us.cloud-object-storage.appdomain.cloud/IBMDeveloperSkillsNetwork-DS0105EN-SkillsNetwork/jupyterlite/build/1013.80715e2.js:1:270), <anonymous>:3:15)\n    at s._eval (https://cf-courses-data.s3.us.cloud-object-storage.appdomain.cloud/IBMDeveloperSkillsNetwork-DS0105EN-SkillsNetwork/jupyterlite/build/1013.80715e2.js:1:2501)\n    at s.executeRequest (https://cf-courses-data.s3.us.cloud-object-storage.appdomain.cloud/IBMDeveloperSkillsNetwork-DS0105EN-SkillsNetwork/jupyterlite/build/1013.80715e2.js:1:1372)\n    at s._execute (https://cf-courses-data.s3.us.cloud-object-storage.appdomain.cloud/IBMDeveloperSkillsNetwork-DS0105EN-SkillsNetwork/jupyterlite/build/6433.a5fc382.js:1:6015)\n    at s.handleMessage (https://cf-courses-data.s3.us.cloud-object-storage.appdomain.cloud/IBMDeveloperSkillsNetwork-DS0105EN-SkillsNetwork/jupyterlite/build/6433.a5fc382.js:1:2290)\n    at https://cf-courses-data.s3.us.cloud-object-storage.appdomain.cloud/IBMDeveloperSkillsNetwork-DS0105EN-SkillsNetwork/jupyterlite/build/6433.a5fc382.js:1:10032\n    at https://cf-courses-data.s3.us.cloud-object-storage.appdomain.cloud/IBMDeveloperSkillsNetwork-DS0105EN-SkillsNetwork/jupyterlite/build/6433.a5fc382.js:1:9106\n    at d.<anonymous> (https://cf-courses-data.s3.us.cloud-object-storage.appdomain.cloud/IBMDeveloperSkillsNetwork-DS0105EN-SkillsNetwork/jupyterlite/build/6433.a5fc382.js:1:7792)"
          ],
          "output_type": "error"
        }
      ]
    },
    {
      "cell_type": "code",
      "source": "\nHence the above are some of the steps involved in Exploratory data analysis, these are some general steps that you must follow in order to perform EDA. There are many more yet to come but for now, this is more than enough idea as to how to perform a good EDA given any data sets. Stay tuned for more updates.\n\nThank you.",
      "metadata": {
        "trusted": true
      },
      "execution_count": 30,
      "outputs": [
        {
          "ename": "SyntaxError",
          "evalue": "Unexpected identifier 'the'",
          "traceback": [
            "SyntaxError: Unexpected identifier 'the'\n    at eval (<anonymous>)\n    at s.eval [as _evalFunc] (eval at s (https://cf-courses-data.s3.us.cloud-object-storage.appdomain.cloud/IBMDeveloperSkillsNetwork-DS0105EN-SkillsNetwork/jupyterlite/build/1013.80715e2.js:1:270), <anonymous>:3:15)\n    at s._eval (https://cf-courses-data.s3.us.cloud-object-storage.appdomain.cloud/IBMDeveloperSkillsNetwork-DS0105EN-SkillsNetwork/jupyterlite/build/1013.80715e2.js:1:2501)\n    at s.executeRequest (https://cf-courses-data.s3.us.cloud-object-storage.appdomain.cloud/IBMDeveloperSkillsNetwork-DS0105EN-SkillsNetwork/jupyterlite/build/1013.80715e2.js:1:1372)\n    at s._execute (https://cf-courses-data.s3.us.cloud-object-storage.appdomain.cloud/IBMDeveloperSkillsNetwork-DS0105EN-SkillsNetwork/jupyterlite/build/6433.a5fc382.js:1:6015)\n    at s.handleMessage (https://cf-courses-data.s3.us.cloud-object-storage.appdomain.cloud/IBMDeveloperSkillsNetwork-DS0105EN-SkillsNetwork/jupyterlite/build/6433.a5fc382.js:1:2290)\n    at https://cf-courses-data.s3.us.cloud-object-storage.appdomain.cloud/IBMDeveloperSkillsNetwork-DS0105EN-SkillsNetwork/jupyterlite/build/6433.a5fc382.js:1:10032\n    at https://cf-courses-data.s3.us.cloud-object-storage.appdomain.cloud/IBMDeveloperSkillsNetwork-DS0105EN-SkillsNetwork/jupyterlite/build/6433.a5fc382.js:1:9106\n    at d.<anonymous> (https://cf-courses-data.s3.us.cloud-object-storage.appdomain.cloud/IBMDeveloperSkillsNetwork-DS0105EN-SkillsNetwork/jupyterlite/build/6433.a5fc382.js:1:7792)\n    at Generator.next (<anonymous>)"
          ],
          "output_type": "error"
        }
      ]
    },
    {
      "cell_type": "markdown",
      "source": "https://towardsdatascience.com/data-cleaning-with-python-using-pandas-library-c6f4a68ea8eb",
      "metadata": {}
    },
    {
      "cell_type": "code",
      "source": "",
      "metadata": {},
      "execution_count": null,
      "outputs": []
    },
    {
      "cell_type": "markdown",
      "source": "https://nbviewer.jupyter.org/github/temporaer/tutorial_ml_gkbionics/blob/master/2%20-%20KMeans.ipynb",
      "metadata": {}
    },
    {
      "cell_type": "code",
      "source": "",
      "metadata": {},
      "execution_count": null,
      "outputs": []
    },
    {
      "cell_type": "code",
      "source": "",
      "metadata": {},
      "execution_count": null,
      "outputs": []
    },
    {
      "cell_type": "code",
      "source": "",
      "metadata": {},
      "execution_count": null,
      "outputs": []
    },
    {
      "cell_type": "code",
      "source": "",
      "metadata": {},
      "execution_count": null,
      "outputs": []
    },
    {
      "cell_type": "markdown",
      "source": "https://www.kaggle.com/lalitharajesh/iris-dataset-exploratory-data-analysis",
      "metadata": {}
    }
  ]
}